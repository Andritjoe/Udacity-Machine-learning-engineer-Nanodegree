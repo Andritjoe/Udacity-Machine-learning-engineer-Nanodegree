{
 "cells": [
  {
   "cell_type": "code",
   "execution_count": 13,
   "metadata": {},
   "outputs": [],
   "source": [
    "import pandas as pd\n",
    "import seaborn as sns \n",
    "import matplotlib.pyplot as plt \n",
    "import numpy as np\n",
    "import missingno as msno"
   ]
  },
  {
   "cell_type": "code",
   "execution_count": 14,
   "metadata": {},
   "outputs": [],
   "source": [
    "filenames = ['LoanStats_2016Q3.csv','LoanStats_2016Q4.csv']\n",
    "data = pd.DataFrame()\n",
    "for i in filenames:\n",
    "    datas = pd.read_csv(i,low_memory=False,skiprows=1)\n",
    "    data = data.append(datas)\n"
   ]
  },
  {
   "cell_type": "markdown",
   "metadata": {},
   "source": [
    "# Data Preprocessing"
   ]
  },
  {
   "cell_type": "code",
   "execution_count": 15,
   "metadata": {},
   "outputs": [],
   "source": [
    "threshold = len(data)*0.4\n",
    "data = data.dropna(thresh=threshold, axis=1 ) "
   ]
  },
  {
   "cell_type": "code",
   "execution_count": 16,
   "metadata": {},
   "outputs": [
    {
     "data": {
      "text/plain": [
       "mths_since_last_delinq        0.461499\n",
       "next_pymnt_d                  0.408171\n",
       "il_util                       0.128761\n",
       "mths_since_recent_inq         0.106326\n",
       "emp_title                     0.064341\n",
       "emp_length                    0.063172\n",
       "num_tl_120dpd_2m              0.044906\n",
       "title                         0.026817\n",
       "mo_sin_old_il_acct            0.026116\n",
       "mths_since_rcnt_il            0.026116\n",
       "bc_util                       0.012552\n",
       "percent_bc_gt_75              0.012168\n",
       "bc_open_to_buy                0.012133\n",
       "mths_since_recent_bc          0.011467\n",
       "last_pymnt_d                  0.001234\n",
       "revol_util                    0.000725\n",
       "dti                           0.000178\n",
       "all_util                      0.000079\n",
       "last_credit_pull_d            0.000064\n",
       "out_prncp                     0.000020\n",
       "total_acc                     0.000020\n",
       "initial_list_status           0.000020\n",
       "debt_settlement_flag          0.000020\n",
       "out_prncp_inv                 0.000020\n",
       "total_pymnt                   0.000020\n",
       "total_pymnt_inv               0.000020\n",
       "revol_bal                     0.000020\n",
       "total_rec_int                 0.000020\n",
       "total_rec_late_fee            0.000020\n",
       "recoveries                    0.000020\n",
       "                                ...   \n",
       "tax_liens                     0.000020\n",
       "tot_hi_cred_lim               0.000020\n",
       "total_bal_ex_mort             0.000020\n",
       "total_bc_limit                0.000020\n",
       "total_il_high_credit_limit    0.000020\n",
       "hardship_flag                 0.000020\n",
       "num_accts_ever_120_pd         0.000020\n",
       "mort_acc                      0.000020\n",
       "mo_sin_rcnt_tl                0.000020\n",
       "mo_sin_rcnt_rev_tl_op         0.000020\n",
       "tot_coll_amt                  0.000020\n",
       "tot_cur_bal                   0.000020\n",
       "open_acc_6m                   0.000020\n",
       "disbursement_method           0.000020\n",
       "open_il_12m                   0.000020\n",
       "open_il_24m                   0.000020\n",
       "total_bal_il                  0.000020\n",
       "open_rv_12m                   0.000020\n",
       "open_rv_24m                   0.000020\n",
       "max_bal_bc                    0.000020\n",
       "total_rev_hi_lim              0.000020\n",
       "inq_fi                        0.000020\n",
       "total_cu_tl                   0.000020\n",
       "inq_last_12m                  0.000020\n",
       "acc_open_past_24mths          0.000020\n",
       "avg_cur_bal                   0.000020\n",
       "chargeoff_within_12_mths      0.000020\n",
       "delinq_amnt                   0.000020\n",
       "mo_sin_old_rev_tl_op          0.000020\n",
       "loan_amnt                     0.000020\n",
       "Length: 103, dtype: float64"
      ]
     },
     "execution_count": 16,
     "metadata": {},
     "output_type": "execute_result"
    }
   ],
   "source": [
    "data.isnull().sum(axis=0).sort_values(ascending=False)/float(len(data)) "
   ]
  },
  {
   "cell_type": "code",
   "execution_count": 17,
   "metadata": {},
   "outputs": [],
   "source": [
    "data.to_csv('clean_data1.csv', index = False)"
   ]
  },
  {
   "cell_type": "code",
   "execution_count": 18,
   "metadata": {},
   "outputs": [
    {
     "data": {
      "text/plain": [
       "float64    78\n",
       "object     25\n",
       "dtype: int64"
      ]
     },
     "execution_count": 18,
     "metadata": {},
     "output_type": "execute_result"
    }
   ],
   "source": [
    "loans = pd.read_csv('clean_data1.csv') \n",
    "loans.dtypes.value_counts()"
   ]
  },
  {
   "cell_type": "code",
   "execution_count": 19,
   "metadata": {},
   "outputs": [],
   "source": [
    "# remove those variable that only include one value since it is useless \n",
    "loans = loans.loc[:,loans.apply(pd.Series.nunique) != 1]"
   ]
  },
  {
   "cell_type": "code",
   "execution_count": 20,
   "metadata": {},
   "outputs": [
    {
     "data": {
      "text/plain": [
       "(202670, 102)"
      ]
     },
     "execution_count": 20,
     "metadata": {},
     "output_type": "execute_result"
    }
   ],
   "source": [
    "loans.shape"
   ]
  },
  {
   "cell_type": "code",
   "execution_count": 21,
   "metadata": {},
   "outputs": [
    {
     "data": {
      "text/html": [
       "<div>\n",
       "<style scoped>\n",
       "    .dataframe tbody tr th:only-of-type {\n",
       "        vertical-align: middle;\n",
       "    }\n",
       "\n",
       "    .dataframe tbody tr th {\n",
       "        vertical-align: top;\n",
       "    }\n",
       "\n",
       "    .dataframe thead th {\n",
       "        text-align: right;\n",
       "    }\n",
       "</style>\n",
       "<table border=\"1\" class=\"dataframe\">\n",
       "  <thead>\n",
       "    <tr style=\"text-align: right;\">\n",
       "      <th></th>\n",
       "      <th>loan_amnt</th>\n",
       "      <th>funded_amnt</th>\n",
       "      <th>funded_amnt_inv</th>\n",
       "      <th>installment</th>\n",
       "      <th>annual_inc</th>\n",
       "      <th>dti</th>\n",
       "      <th>delinq_2yrs</th>\n",
       "      <th>inq_last_6mths</th>\n",
       "      <th>mths_since_last_delinq</th>\n",
       "      <th>open_acc</th>\n",
       "      <th>...</th>\n",
       "      <th>num_tl_90g_dpd_24m</th>\n",
       "      <th>num_tl_op_past_12m</th>\n",
       "      <th>pct_tl_nvr_dlq</th>\n",
       "      <th>percent_bc_gt_75</th>\n",
       "      <th>pub_rec_bankruptcies</th>\n",
       "      <th>tax_liens</th>\n",
       "      <th>tot_hi_cred_lim</th>\n",
       "      <th>total_bal_ex_mort</th>\n",
       "      <th>total_bc_limit</th>\n",
       "      <th>total_il_high_credit_limit</th>\n",
       "    </tr>\n",
       "  </thead>\n",
       "  <tbody>\n",
       "    <tr>\n",
       "      <th>count</th>\n",
       "      <td>202666.000000</td>\n",
       "      <td>202666.000000</td>\n",
       "      <td>202666.000000</td>\n",
       "      <td>202666.000000</td>\n",
       "      <td>2.026660e+05</td>\n",
       "      <td>202634.000000</td>\n",
       "      <td>202666.000000</td>\n",
       "      <td>202666.000000</td>\n",
       "      <td>109138.000000</td>\n",
       "      <td>202666.000000</td>\n",
       "      <td>...</td>\n",
       "      <td>202666.000000</td>\n",
       "      <td>202666.000000</td>\n",
       "      <td>202666.000000</td>\n",
       "      <td>200204.00000</td>\n",
       "      <td>202666.000000</td>\n",
       "      <td>202666.000000</td>\n",
       "      <td>2.026660e+05</td>\n",
       "      <td>2.026660e+05</td>\n",
       "      <td>202666.000000</td>\n",
       "      <td>2.026660e+05</td>\n",
       "    </tr>\n",
       "    <tr>\n",
       "      <th>mean</th>\n",
       "      <td>14160.794238</td>\n",
       "      <td>14160.794238</td>\n",
       "      <td>14155.435455</td>\n",
       "      <td>433.235539</td>\n",
       "      <td>7.963788e+04</td>\n",
       "      <td>18.365964</td>\n",
       "      <td>0.372988</td>\n",
       "      <td>0.564229</td>\n",
       "      <td>33.444034</td>\n",
       "      <td>11.723437</td>\n",
       "      <td>...</td>\n",
       "      <td>0.099050</td>\n",
       "      <td>2.201356</td>\n",
       "      <td>93.280770</td>\n",
       "      <td>42.61459</td>\n",
       "      <td>0.150020</td>\n",
       "      <td>0.076481</td>\n",
       "      <td>1.764209e+05</td>\n",
       "      <td>5.199889e+04</td>\n",
       "      <td>21560.722553</td>\n",
       "      <td>4.518701e+04</td>\n",
       "    </tr>\n",
       "    <tr>\n",
       "      <th>std</th>\n",
       "      <td>9055.652198</td>\n",
       "      <td>9055.652198</td>\n",
       "      <td>9052.984155</td>\n",
       "      <td>276.302751</td>\n",
       "      <td>7.505528e+04</td>\n",
       "      <td>10.349536</td>\n",
       "      <td>0.972590</td>\n",
       "      <td>0.861746</td>\n",
       "      <td>21.820999</td>\n",
       "      <td>5.751638</td>\n",
       "      <td>...</td>\n",
       "      <td>0.564327</td>\n",
       "      <td>1.931416</td>\n",
       "      <td>9.662148</td>\n",
       "      <td>36.36730</td>\n",
       "      <td>0.404468</td>\n",
       "      <td>0.485746</td>\n",
       "      <td>1.812614e+05</td>\n",
       "      <td>5.048474e+04</td>\n",
       "      <td>21426.414980</td>\n",
       "      <td>4.569318e+04</td>\n",
       "    </tr>\n",
       "    <tr>\n",
       "      <th>min</th>\n",
       "      <td>1000.000000</td>\n",
       "      <td>1000.000000</td>\n",
       "      <td>950.000000</td>\n",
       "      <td>30.120000</td>\n",
       "      <td>0.000000e+00</td>\n",
       "      <td>0.000000</td>\n",
       "      <td>0.000000</td>\n",
       "      <td>0.000000</td>\n",
       "      <td>0.000000</td>\n",
       "      <td>1.000000</td>\n",
       "      <td>...</td>\n",
       "      <td>0.000000</td>\n",
       "      <td>0.000000</td>\n",
       "      <td>0.000000</td>\n",
       "      <td>0.00000</td>\n",
       "      <td>0.000000</td>\n",
       "      <td>0.000000</td>\n",
       "      <td>2.500000e+03</td>\n",
       "      <td>0.000000e+00</td>\n",
       "      <td>0.000000</td>\n",
       "      <td>0.000000e+00</td>\n",
       "    </tr>\n",
       "    <tr>\n",
       "      <th>25%</th>\n",
       "      <td>7000.000000</td>\n",
       "      <td>7000.000000</td>\n",
       "      <td>7000.000000</td>\n",
       "      <td>232.640000</td>\n",
       "      <td>4.800000e+04</td>\n",
       "      <td>12.190000</td>\n",
       "      <td>0.000000</td>\n",
       "      <td>0.000000</td>\n",
       "      <td>15.000000</td>\n",
       "      <td>8.000000</td>\n",
       "      <td>...</td>\n",
       "      <td>0.000000</td>\n",
       "      <td>1.000000</td>\n",
       "      <td>90.000000</td>\n",
       "      <td>0.00000</td>\n",
       "      <td>0.000000</td>\n",
       "      <td>0.000000</td>\n",
       "      <td>5.040000e+04</td>\n",
       "      <td>2.130700e+04</td>\n",
       "      <td>7900.000000</td>\n",
       "      <td>1.620000e+04</td>\n",
       "    </tr>\n",
       "    <tr>\n",
       "      <th>50%</th>\n",
       "      <td>12000.000000</td>\n",
       "      <td>12000.000000</td>\n",
       "      <td>12000.000000</td>\n",
       "      <td>358.200000</td>\n",
       "      <td>6.670000e+04</td>\n",
       "      <td>17.950000</td>\n",
       "      <td>0.000000</td>\n",
       "      <td>0.000000</td>\n",
       "      <td>30.000000</td>\n",
       "      <td>11.000000</td>\n",
       "      <td>...</td>\n",
       "      <td>0.000000</td>\n",
       "      <td>2.000000</td>\n",
       "      <td>96.900000</td>\n",
       "      <td>37.50000</td>\n",
       "      <td>0.000000</td>\n",
       "      <td>0.000000</td>\n",
       "      <td>1.116055e+05</td>\n",
       "      <td>3.839700e+04</td>\n",
       "      <td>15200.000000</td>\n",
       "      <td>3.399900e+04</td>\n",
       "    </tr>\n",
       "    <tr>\n",
       "      <th>75%</th>\n",
       "      <td>20000.000000</td>\n",
       "      <td>20000.000000</td>\n",
       "      <td>20000.000000</td>\n",
       "      <td>575.445000</td>\n",
       "      <td>9.500000e+04</td>\n",
       "      <td>24.250000</td>\n",
       "      <td>0.000000</td>\n",
       "      <td>1.000000</td>\n",
       "      <td>48.000000</td>\n",
       "      <td>15.000000</td>\n",
       "      <td>...</td>\n",
       "      <td>0.000000</td>\n",
       "      <td>3.000000</td>\n",
       "      <td>100.000000</td>\n",
       "      <td>71.40000</td>\n",
       "      <td>0.000000</td>\n",
       "      <td>0.000000</td>\n",
       "      <td>2.539958e+05</td>\n",
       "      <td>6.557975e+04</td>\n",
       "      <td>27900.000000</td>\n",
       "      <td>6.034300e+04</td>\n",
       "    </tr>\n",
       "    <tr>\n",
       "      <th>max</th>\n",
       "      <td>40000.000000</td>\n",
       "      <td>40000.000000</td>\n",
       "      <td>40000.000000</td>\n",
       "      <td>1584.900000</td>\n",
       "      <td>8.400000e+06</td>\n",
       "      <td>999.000000</td>\n",
       "      <td>29.000000</td>\n",
       "      <td>5.000000</td>\n",
       "      <td>195.000000</td>\n",
       "      <td>97.000000</td>\n",
       "      <td>...</td>\n",
       "      <td>29.000000</td>\n",
       "      <td>29.000000</td>\n",
       "      <td>100.000000</td>\n",
       "      <td>100.00000</td>\n",
       "      <td>8.000000</td>\n",
       "      <td>61.000000</td>\n",
       "      <td>9.999999e+06</td>\n",
       "      <td>1.548128e+06</td>\n",
       "      <td>719500.000000</td>\n",
       "      <td>2.000000e+06</td>\n",
       "    </tr>\n",
       "  </tbody>\n",
       "</table>\n",
       "<p>8 rows × 77 columns</p>\n",
       "</div>"
      ],
      "text/plain": [
       "           loan_amnt    funded_amnt  funded_amnt_inv    installment  \\\n",
       "count  202666.000000  202666.000000    202666.000000  202666.000000   \n",
       "mean    14160.794238   14160.794238     14155.435455     433.235539   \n",
       "std      9055.652198    9055.652198      9052.984155     276.302751   \n",
       "min      1000.000000    1000.000000       950.000000      30.120000   \n",
       "25%      7000.000000    7000.000000      7000.000000     232.640000   \n",
       "50%     12000.000000   12000.000000     12000.000000     358.200000   \n",
       "75%     20000.000000   20000.000000     20000.000000     575.445000   \n",
       "max     40000.000000   40000.000000     40000.000000    1584.900000   \n",
       "\n",
       "         annual_inc            dti    delinq_2yrs  inq_last_6mths  \\\n",
       "count  2.026660e+05  202634.000000  202666.000000   202666.000000   \n",
       "mean   7.963788e+04      18.365964       0.372988        0.564229   \n",
       "std    7.505528e+04      10.349536       0.972590        0.861746   \n",
       "min    0.000000e+00       0.000000       0.000000        0.000000   \n",
       "25%    4.800000e+04      12.190000       0.000000        0.000000   \n",
       "50%    6.670000e+04      17.950000       0.000000        0.000000   \n",
       "75%    9.500000e+04      24.250000       0.000000        1.000000   \n",
       "max    8.400000e+06     999.000000      29.000000        5.000000   \n",
       "\n",
       "       mths_since_last_delinq       open_acc             ...              \\\n",
       "count           109138.000000  202666.000000             ...               \n",
       "mean                33.444034      11.723437             ...               \n",
       "std                 21.820999       5.751638             ...               \n",
       "min                  0.000000       1.000000             ...               \n",
       "25%                 15.000000       8.000000             ...               \n",
       "50%                 30.000000      11.000000             ...               \n",
       "75%                 48.000000      15.000000             ...               \n",
       "max                195.000000      97.000000             ...               \n",
       "\n",
       "       num_tl_90g_dpd_24m  num_tl_op_past_12m  pct_tl_nvr_dlq  \\\n",
       "count       202666.000000       202666.000000   202666.000000   \n",
       "mean             0.099050            2.201356       93.280770   \n",
       "std              0.564327            1.931416        9.662148   \n",
       "min              0.000000            0.000000        0.000000   \n",
       "25%              0.000000            1.000000       90.000000   \n",
       "50%              0.000000            2.000000       96.900000   \n",
       "75%              0.000000            3.000000      100.000000   \n",
       "max             29.000000           29.000000      100.000000   \n",
       "\n",
       "       percent_bc_gt_75  pub_rec_bankruptcies      tax_liens  tot_hi_cred_lim  \\\n",
       "count      200204.00000         202666.000000  202666.000000     2.026660e+05   \n",
       "mean           42.61459              0.150020       0.076481     1.764209e+05   \n",
       "std            36.36730              0.404468       0.485746     1.812614e+05   \n",
       "min             0.00000              0.000000       0.000000     2.500000e+03   \n",
       "25%             0.00000              0.000000       0.000000     5.040000e+04   \n",
       "50%            37.50000              0.000000       0.000000     1.116055e+05   \n",
       "75%            71.40000              0.000000       0.000000     2.539958e+05   \n",
       "max           100.00000              8.000000      61.000000     9.999999e+06   \n",
       "\n",
       "       total_bal_ex_mort  total_bc_limit  total_il_high_credit_limit  \n",
       "count       2.026660e+05   202666.000000                2.026660e+05  \n",
       "mean        5.199889e+04    21560.722553                4.518701e+04  \n",
       "std         5.048474e+04    21426.414980                4.569318e+04  \n",
       "min         0.000000e+00        0.000000                0.000000e+00  \n",
       "25%         2.130700e+04     7900.000000                1.620000e+04  \n",
       "50%         3.839700e+04    15200.000000                3.399900e+04  \n",
       "75%         6.557975e+04    27900.000000                6.034300e+04  \n",
       "max         1.548128e+06   719500.000000                2.000000e+06  \n",
       "\n",
       "[8 rows x 77 columns]"
      ]
     },
     "execution_count": 21,
     "metadata": {},
     "output_type": "execute_result"
    }
   ],
   "source": [
    "# describe numerical variable \n",
    "num_var = loans.select_dtypes(include=[\"int64\",'float64'])\n",
    "num_var.describe()"
   ]
  },
  {
   "cell_type": "code",
   "execution_count": 22,
   "metadata": {},
   "outputs": [
    {
     "data": {
      "text/html": [
       "<div>\n",
       "<style scoped>\n",
       "    .dataframe tbody tr th:only-of-type {\n",
       "        vertical-align: middle;\n",
       "    }\n",
       "\n",
       "    .dataframe tbody tr th {\n",
       "        vertical-align: top;\n",
       "    }\n",
       "\n",
       "    .dataframe thead th {\n",
       "        text-align: right;\n",
       "    }\n",
       "</style>\n",
       "<table border=\"1\" class=\"dataframe\">\n",
       "  <thead>\n",
       "    <tr style=\"text-align: right;\">\n",
       "      <th></th>\n",
       "      <th>term</th>\n",
       "      <th>int_rate</th>\n",
       "      <th>grade</th>\n",
       "      <th>sub_grade</th>\n",
       "      <th>emp_title</th>\n",
       "      <th>emp_length</th>\n",
       "      <th>home_ownership</th>\n",
       "      <th>verification_status</th>\n",
       "      <th>issue_d</th>\n",
       "      <th>loan_status</th>\n",
       "      <th>...</th>\n",
       "      <th>earliest_cr_line</th>\n",
       "      <th>revol_util</th>\n",
       "      <th>initial_list_status</th>\n",
       "      <th>last_pymnt_d</th>\n",
       "      <th>next_pymnt_d</th>\n",
       "      <th>last_credit_pull_d</th>\n",
       "      <th>application_type</th>\n",
       "      <th>hardship_flag</th>\n",
       "      <th>disbursement_method</th>\n",
       "      <th>debt_settlement_flag</th>\n",
       "    </tr>\n",
       "  </thead>\n",
       "  <tbody>\n",
       "    <tr>\n",
       "      <th>count</th>\n",
       "      <td>202666</td>\n",
       "      <td>202666</td>\n",
       "      <td>202666</td>\n",
       "      <td>202666</td>\n",
       "      <td>189630</td>\n",
       "      <td>189867</td>\n",
       "      <td>202666</td>\n",
       "      <td>202666</td>\n",
       "      <td>202666</td>\n",
       "      <td>202666</td>\n",
       "      <td>...</td>\n",
       "      <td>202666</td>\n",
       "      <td>202523</td>\n",
       "      <td>202666</td>\n",
       "      <td>202420</td>\n",
       "      <td>119946</td>\n",
       "      <td>202657</td>\n",
       "      <td>202666</td>\n",
       "      <td>202666</td>\n",
       "      <td>202666</td>\n",
       "      <td>202666</td>\n",
       "    </tr>\n",
       "    <tr>\n",
       "      <th>unique</th>\n",
       "      <td>2</td>\n",
       "      <td>70</td>\n",
       "      <td>7</td>\n",
       "      <td>35</td>\n",
       "      <td>66684</td>\n",
       "      <td>11</td>\n",
       "      <td>4</td>\n",
       "      <td>3</td>\n",
       "      <td>6</td>\n",
       "      <td>7</td>\n",
       "      <td>...</td>\n",
       "      <td>636</td>\n",
       "      <td>1119</td>\n",
       "      <td>2</td>\n",
       "      <td>25</td>\n",
       "      <td>2</td>\n",
       "      <td>26</td>\n",
       "      <td>2</td>\n",
       "      <td>2</td>\n",
       "      <td>2</td>\n",
       "      <td>2</td>\n",
       "    </tr>\n",
       "    <tr>\n",
       "      <th>top</th>\n",
       "      <td>36 months</td>\n",
       "      <td>11.49%</td>\n",
       "      <td>C</td>\n",
       "      <td>B5</td>\n",
       "      <td>Teacher</td>\n",
       "      <td>10+ years</td>\n",
       "      <td>MORTGAGE</td>\n",
       "      <td>Source Verified</td>\n",
       "      <td>Aug-2016</td>\n",
       "      <td>Current</td>\n",
       "      <td>...</td>\n",
       "      <td>Aug-2003</td>\n",
       "      <td>0%</td>\n",
       "      <td>w</td>\n",
       "      <td>Jun-2018</td>\n",
       "      <td>Jul-2018</td>\n",
       "      <td>Jun-2018</td>\n",
       "      <td>Individual</td>\n",
       "      <td>N</td>\n",
       "      <td>Cash</td>\n",
       "      <td>N</td>\n",
       "    </tr>\n",
       "    <tr>\n",
       "      <th>freq</th>\n",
       "      <td>152838</td>\n",
       "      <td>16505</td>\n",
       "      <td>67990</td>\n",
       "      <td>16511</td>\n",
       "      <td>3803</td>\n",
       "      <td>70200</td>\n",
       "      <td>97530</td>\n",
       "      <td>84623</td>\n",
       "      <td>36280</td>\n",
       "      <td>113173</td>\n",
       "      <td>...</td>\n",
       "      <td>1582</td>\n",
       "      <td>833</td>\n",
       "      <td>146213</td>\n",
       "      <td>78805</td>\n",
       "      <td>83890</td>\n",
       "      <td>146602</td>\n",
       "      <td>198013</td>\n",
       "      <td>202541</td>\n",
       "      <td>202590</td>\n",
       "      <td>200543</td>\n",
       "    </tr>\n",
       "  </tbody>\n",
       "</table>\n",
       "<p>4 rows × 25 columns</p>\n",
       "</div>"
      ],
      "text/plain": [
       "              term int_rate   grade sub_grade emp_title emp_length  \\\n",
       "count       202666   202666  202666    202666    189630     189867   \n",
       "unique           2       70       7        35     66684         11   \n",
       "top      36 months   11.49%       C        B5   Teacher  10+ years   \n",
       "freq        152838    16505   67990     16511      3803      70200   \n",
       "\n",
       "       home_ownership verification_status   issue_d loan_status  \\\n",
       "count          202666              202666    202666      202666   \n",
       "unique              4                   3         6           7   \n",
       "top          MORTGAGE     Source Verified  Aug-2016     Current   \n",
       "freq            97530               84623     36280      113173   \n",
       "\n",
       "               ...          earliest_cr_line revol_util initial_list_status  \\\n",
       "count          ...                    202666     202523              202666   \n",
       "unique         ...                       636       1119                   2   \n",
       "top            ...                  Aug-2003         0%                   w   \n",
       "freq           ...                      1582        833              146213   \n",
       "\n",
       "       last_pymnt_d next_pymnt_d last_credit_pull_d application_type  \\\n",
       "count        202420       119946             202657           202666   \n",
       "unique           25            2                 26                2   \n",
       "top        Jun-2018     Jul-2018           Jun-2018       Individual   \n",
       "freq          78805        83890             146602           198013   \n",
       "\n",
       "       hardship_flag disbursement_method debt_settlement_flag  \n",
       "count         202666              202666               202666  \n",
       "unique             2                   2                    2  \n",
       "top                N                Cash                    N  \n",
       "freq          202541              202590               200543  \n",
       "\n",
       "[4 rows x 25 columns]"
      ]
     },
     "execution_count": 22,
     "metadata": {},
     "output_type": "execute_result"
    }
   ],
   "source": [
    "# describe object type variable\n",
    "object_var = loans.select_dtypes(include=['object'])\n",
    "object_var.describe()"
   ]
  },
  {
   "cell_type": "code",
   "execution_count": 23,
   "metadata": {},
   "outputs": [],
   "source": [
    "# remove all the symbol in these variable and convert it to float\n",
    "loans['int_rate'] = loans['int_rate'].str.rstrip('%').astype('float')\n",
    "loans['revol_util'] = loans['revol_util'].str.rstrip('%').astype('float')"
   ]
  },
  {
   "cell_type": "code",
   "execution_count": 24,
   "metadata": {},
   "outputs": [
    {
     "data": {
      "text/plain": [
       "<matplotlib.axes._subplots.AxesSubplot at 0x115ee10b8>"
      ]
     },
     "execution_count": 24,
     "metadata": {},
     "output_type": "execute_result"
    },
    {
     "data": {
      "image/png": "[encoded data removed]",
      "text/plain": [
       "<Figure size 1800x720 with 2 Axes>"
      ]
     },
     "metadata": {},
     "output_type": "display_data"
    }
   ],
   "source": [
    "# visualise object type variables' missing values\n",
    "msno.matrix(loans[object_var.columns])"
   ]
  },
  {
   "cell_type": "code",
   "execution_count": 25,
   "metadata": {},
   "outputs": [
    {
     "data": {
      "text/plain": [
       "<matplotlib.axes._subplots.AxesSubplot at 0x114d50b38>"
      ]
     },
     "execution_count": 25,
     "metadata": {},
     "output_type": "execute_result"
    },
    {
     "data": {
      "image/png": "[encoded data removed]",
      "text/plain": [
       "<Figure size 1800x720 with 2 Axes>"
      ]
     },
     "metadata": {},
     "output_type": "display_data"
    }
   ],
   "source": [
    "# visualise numerical variables' missing values\n",
    "msno.matrix(loans[num_var.columns]) "
   ]
  },
  {
   "cell_type": "code",
   "execution_count": 26,
   "metadata": {},
   "outputs": [],
   "source": [
    "# replace those nan values with 'Unknown'\n",
    "object_var = loans.select_dtypes(include=[\"object\"]).columns \n",
    "loans[object_var] = loans[object_var].fillna(\"Unknown\") "
   ]
  },
  {
   "cell_type": "code",
   "execution_count": 27,
   "metadata": {},
   "outputs": [
    {
     "data": {
      "text/plain": [
       "<matplotlib.axes._subplots.AxesSubplot at 0x115f528d0>"
      ]
     },
     "execution_count": 27,
     "metadata": {},
     "output_type": "execute_result"
    },
    {
     "data": {
      "image/png": "[encoded data removed]",
      "text/plain": [
       "<Figure size 1728x720 with 3 Axes>"
      ]
     },
     "metadata": {},
     "output_type": "display_data"
    }
   ],
   "source": [
    "# check again if there is any missing values in object type variables\n",
    "msno.bar(loans[object_var]) "
   ]
  },
  {
   "cell_type": "code",
   "execution_count": 28,
   "metadata": {},
   "outputs": [
    {
     "name": "stderr",
     "output_type": "stream",
     "text": [
      "/anaconda3/lib/python3.6/site-packages/ipykernel_launcher.py:2: UserWarning: Boolean Series key will be reindexed to match DataFrame index.\n",
      "  \n"
     ]
    },
    {
     "data": {
      "text/plain": [
       "Int64Index([99120, 99121, 202668, 202669], dtype='int64')"
      ]
     },
     "execution_count": 28,
     "metadata": {},
     "output_type": "execute_result"
    }
   ],
   "source": [
    "#find out the row that has over 65 missing values \n",
    "mngless_data_row = loans[loans.select_dtypes(include=[np.number]).isnull().sum(axis=1).sort_values(ascending=False) >= 65]\n",
    "mngless_data_row.index"
   ]
  },
  {
   "cell_type": "code",
   "execution_count": 29,
   "metadata": {},
   "outputs": [],
   "source": [
    "# drop the high missing values row\n",
    "loans.drop([99120, 99121, 202668, 202669], inplace = True)"
   ]
  },
  {
   "cell_type": "code",
   "execution_count": 30,
   "metadata": {},
   "outputs": [],
   "source": [
    "from sklearn.preprocessing import Imputer\n",
    "imr = Imputer(missing_values='NaN', strategy='mean', axis=0)\n",
    "imr = imr.fit(loans[num_var.columns])\n",
    "loans[num_var.columns] = imr.transform(loans[num_var.columns])"
   ]
  },
  {
   "cell_type": "code",
   "execution_count": 31,
   "metadata": {},
   "outputs": [
    {
     "data": {
      "text/plain": [
       "<matplotlib.axes._subplots.AxesSubplot at 0x1a20042588>"
      ]
     },
     "execution_count": 31,
     "metadata": {},
     "output_type": "execute_result"
    },
    {
     "data": {
      "image/png": "[encoded data removed]",
      "text/plain": [
       "<Figure size 1800x720 with 2 Axes>"
      ]
     },
     "metadata": {},
     "output_type": "display_data"
    }
   ],
   "source": [
    "# check again if there is any missing values in numerical variable\n",
    "msno.matrix(loans) "
   ]
  },
  {
   "cell_type": "code",
   "execution_count": 32,
   "metadata": {},
   "outputs": [],
   "source": [
    "# drop those meaningless variables \n",
    "drop_list = ['sub_grade', 'emp_title',  'title', 'zip_code', 'addr_state', \n",
    "             'mths_since_last_delinq' ,'initial_list_status','title','issue_d',\n",
    "             'last_pymnt_d','last_pymnt_amnt','next_pymnt_d','last_credit_pull_d',\n",
    "             'collection_recovery_fee', 'earliest_cr_line', 'pymnt_plan',\n",
    "             'hardship_flag','disbursement_method','debt_settlement_flag','revol_util']\n",
    "\n",
    "loans.drop(drop_list, axis=1, inplace = True)"
   ]
  },
  {
   "cell_type": "code",
   "execution_count": 33,
   "metadata": {},
   "outputs": [
    {
     "data": {
      "text/html": [
       "<div>\n",
       "<style scoped>\n",
       "    .dataframe tbody tr th:only-of-type {\n",
       "        vertical-align: middle;\n",
       "    }\n",
       "\n",
       "    .dataframe tbody tr th {\n",
       "        vertical-align: top;\n",
       "    }\n",
       "\n",
       "    .dataframe thead th {\n",
       "        text-align: right;\n",
       "    }\n",
       "</style>\n",
       "<table border=\"1\" class=\"dataframe\">\n",
       "  <thead>\n",
       "    <tr style=\"text-align: right;\">\n",
       "      <th></th>\n",
       "      <th>term</th>\n",
       "      <th>grade</th>\n",
       "      <th>emp_length</th>\n",
       "      <th>home_ownership</th>\n",
       "      <th>verification_status</th>\n",
       "      <th>loan_status</th>\n",
       "      <th>purpose</th>\n",
       "      <th>application_type</th>\n",
       "    </tr>\n",
       "  </thead>\n",
       "  <tbody>\n",
       "    <tr>\n",
       "      <th>0</th>\n",
       "      <td>60 months</td>\n",
       "      <td>C</td>\n",
       "      <td>10+ years</td>\n",
       "      <td>MORTGAGE</td>\n",
       "      <td>Source Verified</td>\n",
       "      <td>Fully Paid</td>\n",
       "      <td>debt_consolidation</td>\n",
       "      <td>Individual</td>\n",
       "    </tr>\n",
       "    <tr>\n",
       "      <th>1</th>\n",
       "      <td>60 months</td>\n",
       "      <td>E</td>\n",
       "      <td>4 years</td>\n",
       "      <td>RENT</td>\n",
       "      <td>Not Verified</td>\n",
       "      <td>Current</td>\n",
       "      <td>debt_consolidation</td>\n",
       "      <td>Individual</td>\n",
       "    </tr>\n",
       "    <tr>\n",
       "      <th>2</th>\n",
       "      <td>36 months</td>\n",
       "      <td>B</td>\n",
       "      <td>2 years</td>\n",
       "      <td>RENT</td>\n",
       "      <td>Source Verified</td>\n",
       "      <td>Fully Paid</td>\n",
       "      <td>debt_consolidation</td>\n",
       "      <td>Individual</td>\n",
       "    </tr>\n",
       "    <tr>\n",
       "      <th>3</th>\n",
       "      <td>36 months</td>\n",
       "      <td>C</td>\n",
       "      <td>2 years</td>\n",
       "      <td>RENT</td>\n",
       "      <td>Not Verified</td>\n",
       "      <td>Fully Paid</td>\n",
       "      <td>debt_consolidation</td>\n",
       "      <td>Individual</td>\n",
       "    </tr>\n",
       "    <tr>\n",
       "      <th>4</th>\n",
       "      <td>60 months</td>\n",
       "      <td>C</td>\n",
       "      <td>10+ years</td>\n",
       "      <td>RENT</td>\n",
       "      <td>Not Verified</td>\n",
       "      <td>Charged Off</td>\n",
       "      <td>debt_consolidation</td>\n",
       "      <td>Individual</td>\n",
       "    </tr>\n",
       "  </tbody>\n",
       "</table>\n",
       "</div>"
      ],
      "text/plain": [
       "         term grade emp_length home_ownership verification_status  \\\n",
       "0   60 months     C  10+ years       MORTGAGE     Source Verified   \n",
       "1   60 months     E    4 years           RENT        Not Verified   \n",
       "2   36 months     B    2 years           RENT     Source Verified   \n",
       "3   36 months     C    2 years           RENT        Not Verified   \n",
       "4   60 months     C  10+ years           RENT        Not Verified   \n",
       "\n",
       "   loan_status             purpose application_type  \n",
       "0   Fully Paid  debt_consolidation       Individual  \n",
       "1      Current  debt_consolidation       Individual  \n",
       "2   Fully Paid  debt_consolidation       Individual  \n",
       "3   Fully Paid  debt_consolidation       Individual  \n",
       "4  Charged Off  debt_consolidation       Individual  "
      ]
     },
     "execution_count": 33,
     "metadata": {},
     "output_type": "execute_result"
    }
   ],
   "source": [
    "loans.select_dtypes(include = ['object']).head()"
   ]
  },
  {
   "cell_type": "markdown",
   "metadata": {},
   "source": [
    "# Feature engineering"
   ]
  },
  {
   "cell_type": "code",
   "execution_count": 34,
   "metadata": {},
   "outputs": [],
   "source": [
    "# create a new variable based on existing variables\n",
    "loans['install_income'] = loans['installment'] / (loans['annual_inc'] / 12)"
   ]
  },
  {
   "cell_type": "code",
   "execution_count": 35,
   "metadata": {},
   "outputs": [
    {
     "name": "stdout",
     "output_type": "stream",
     "text": [
      "\n",
      "After convert into binary:\n"
     ]
    },
    {
     "data": {
      "text/plain": [
       "0    175907\n",
       "1     26759\n",
       "Name: loan_status, dtype: int64"
      ]
     },
     "execution_count": 35,
     "metadata": {},
     "output_type": "execute_result"
    }
   ],
   "source": [
    "# Convert loan status into binary variable (0 - normal/fully paid, 1 - default)\n",
    "\n",
    "mapping_dict ={'Current':0,\n",
    "               'Fully Paid':0,\n",
    "               'In Grace Period':1,\n",
    "               'Late (31-120 days)':1,\n",
    "               'Late (16-30 days)':1,\n",
    "               'Charged Off':1, \n",
    "               'Default':1}\n",
    "\n",
    "loans['loan_status'] = loans['loan_status'].replace(mapping_dict)\n",
    "\n",
    "print( '\\nAfter convert into binary:')\n",
    "\n",
    "loans[\"loan_status\"].value_counts()"
   ]
  },
  {
   "cell_type": "code",
   "execution_count": 36,
   "metadata": {},
   "outputs": [
    {
     "data": {
      "image/png": "[encoded data removed]",
      "text/plain": [
       "<Figure size 720x360 with 2 Axes>"
      ]
     },
     "metadata": {},
     "output_type": "display_data"
    }
   ],
   "source": [
    "# visualise the loan status \n",
    "fig, axs = plt.subplots(1,2,figsize=(10,5))\n",
    "sns.countplot(x='loan_status',data=loans,ax=axs[0])\n",
    "axs[0].set_title(\"Frequency of each Loan Status\")\n",
    "loans['loan_status'].value_counts().plot(x=None,y=None, kind='pie', ax=axs[1],autopct='%1.2f%%')\n",
    "axs[1].set_title(\"Percentage of each Loan status\")\n",
    "plt.show()"
   ]
  },
  {
   "cell_type": "code",
   "execution_count": 37,
   "metadata": {},
   "outputs": [
    {
     "data": {
      "text/plain": [
       "<matplotlib.axes._subplots.AxesSubplot at 0x115154320>"
      ]
     },
     "execution_count": 37,
     "metadata": {},
     "output_type": "execute_result"
    },
    {
     "data": {
      "image/png": "[encoded data removed]",
      "text/plain": [
       "<Figure size 432x288 with 1 Axes>"
      ]
     },
     "metadata": {},
     "output_type": "display_data"
    }
   ],
   "source": [
    "loans.groupby(['term','loan_status']).size().unstack().plot(kind='bar', stacked=False)"
   ]
  },
  {
   "cell_type": "code",
   "execution_count": 38,
   "metadata": {},
   "outputs": [
    {
     "data": {
      "text/html": [
       "<div>\n",
       "<style scoped>\n",
       "    .dataframe tbody tr th:only-of-type {\n",
       "        vertical-align: middle;\n",
       "    }\n",
       "\n",
       "    .dataframe tbody tr th {\n",
       "        vertical-align: top;\n",
       "    }\n",
       "\n",
       "    .dataframe thead th {\n",
       "        text-align: right;\n",
       "    }\n",
       "</style>\n",
       "<table border=\"1\" class=\"dataframe\">\n",
       "  <thead>\n",
       "    <tr style=\"text-align: right;\">\n",
       "      <th></th>\n",
       "      <th>emp_length</th>\n",
       "      <th>grade</th>\n",
       "    </tr>\n",
       "  </thead>\n",
       "  <tbody>\n",
       "    <tr>\n",
       "      <th>0</th>\n",
       "      <td>10</td>\n",
       "      <td>3</td>\n",
       "    </tr>\n",
       "    <tr>\n",
       "      <th>1</th>\n",
       "      <td>4</td>\n",
       "      <td>5</td>\n",
       "    </tr>\n",
       "    <tr>\n",
       "      <th>2</th>\n",
       "      <td>2</td>\n",
       "      <td>2</td>\n",
       "    </tr>\n",
       "    <tr>\n",
       "      <th>3</th>\n",
       "      <td>2</td>\n",
       "      <td>3</td>\n",
       "    </tr>\n",
       "    <tr>\n",
       "      <th>4</th>\n",
       "      <td>10</td>\n",
       "      <td>3</td>\n",
       "    </tr>\n",
       "  </tbody>\n",
       "</table>\n",
       "</div>"
      ],
      "text/plain": [
       "   emp_length  grade\n",
       "0          10      3\n",
       "1           4      5\n",
       "2           2      2\n",
       "3           2      3\n",
       "4          10      3"
      ]
     },
     "execution_count": 38,
     "metadata": {},
     "output_type": "execute_result"
    }
   ],
   "source": [
    "# convert emp_length and grade into ordinal variable \n",
    "\n",
    "mapping_dict = {\n",
    "    \"emp_length\": {\n",
    "        \"10+ years\": 10,\n",
    "        \"9 years\": 9,\n",
    "        \"8 years\": 8,\n",
    "        \"7 years\": 7,\n",
    "        \"6 years\": 6,\n",
    "        \"5 years\": 5,\n",
    "        \"4 years\": 4,\n",
    "        \"3 years\": 3,\n",
    "        \"2 years\": 2,\n",
    "        \"1 year\": 1,\n",
    "        \"< 1 year\": 0,\n",
    "        \"Unknown\": 0\n",
    "    },\n",
    "    \"grade\":{\n",
    "        \"A\": 1,\n",
    "        \"B\": 2,\n",
    "        \"C\": 3,\n",
    "        \"D\": 4,\n",
    "        \"E\": 5,\n",
    "        \"F\": 6,\n",
    "        \"G\": 7\n",
    "    }\n",
    "}\n",
    "\n",
    "loans = loans.replace(mapping_dict) \n",
    "loans[['emp_length','grade']].head()"
   ]
  },
  {
   "cell_type": "code",
   "execution_count": 39,
   "metadata": {},
   "outputs": [
    {
     "data": {
      "text/plain": [
       "<matplotlib.axes._subplots.AxesSubplot at 0x114e6f048>"
      ]
     },
     "execution_count": 39,
     "metadata": {},
     "output_type": "execute_result"
    },
    {
     "data": {
      "image/png": "[encoded data removed]",
      "text/plain": [
       "<Figure size 432x288 with 1 Axes>"
      ]
     },
     "metadata": {},
     "output_type": "display_data"
    }
   ],
   "source": [
    "loans.groupby(['emp_length', 'loan_status']).size().unstack().plot(kind='bar', stacked=False)"
   ]
  },
  {
   "cell_type": "code",
   "execution_count": 40,
   "metadata": {},
   "outputs": [
    {
     "data": {
      "text/plain": [
       "<matplotlib.axes._subplots.AxesSubplot at 0x114ee0630>"
      ]
     },
     "execution_count": 40,
     "metadata": {},
     "output_type": "execute_result"
    },
    {
     "data": {
      "image/png": "[encoded data removed]",
      "text/plain": [
       "<Figure size 432x288 with 1 Axes>"
      ]
     },
     "metadata": {},
     "output_type": "display_data"
    }
   ],
   "source": [
    "loans.groupby(['grade', 'loan_status']).size().unstack().plot(kind='bar', stacked=False)"
   ]
  },
  {
   "cell_type": "code",
   "execution_count": 41,
   "metadata": {},
   "outputs": [],
   "source": [
    "# One hot Encoding, convert those variables to dummy variable\n",
    "n_columns = [\"home_ownership\", \"verification_status\", \"application_type\",\"purpose\", \"term\"] \n",
    "dummy_df = pd.get_dummies(loans[n_columns])\n",
    "loans = pd.concat([loans, dummy_df], axis=1)"
   ]
  },
  {
   "cell_type": "code",
   "execution_count": 42,
   "metadata": {},
   "outputs": [
    {
     "data": {
      "text/html": [
       "<div>\n",
       "<style scoped>\n",
       "    .dataframe tbody tr th:only-of-type {\n",
       "        vertical-align: middle;\n",
       "    }\n",
       "\n",
       "    .dataframe tbody tr th {\n",
       "        vertical-align: top;\n",
       "    }\n",
       "\n",
       "    .dataframe thead th {\n",
       "        text-align: right;\n",
       "    }\n",
       "</style>\n",
       "<table border=\"1\" class=\"dataframe\">\n",
       "  <thead>\n",
       "    <tr style=\"text-align: right;\">\n",
       "      <th></th>\n",
       "      <th>home_ownership</th>\n",
       "      <th>home_ownership_ANY</th>\n",
       "      <th>home_ownership_MORTGAGE</th>\n",
       "      <th>home_ownership_OWN</th>\n",
       "      <th>home_ownership_RENT</th>\n",
       "    </tr>\n",
       "  </thead>\n",
       "  <tbody>\n",
       "    <tr>\n",
       "      <th>0</th>\n",
       "      <td>MORTGAGE</td>\n",
       "      <td>0</td>\n",
       "      <td>1</td>\n",
       "      <td>0</td>\n",
       "      <td>0</td>\n",
       "    </tr>\n",
       "    <tr>\n",
       "      <th>1</th>\n",
       "      <td>RENT</td>\n",
       "      <td>0</td>\n",
       "      <td>0</td>\n",
       "      <td>0</td>\n",
       "      <td>1</td>\n",
       "    </tr>\n",
       "    <tr>\n",
       "      <th>2</th>\n",
       "      <td>RENT</td>\n",
       "      <td>0</td>\n",
       "      <td>0</td>\n",
       "      <td>0</td>\n",
       "      <td>1</td>\n",
       "    </tr>\n",
       "    <tr>\n",
       "      <th>3</th>\n",
       "      <td>RENT</td>\n",
       "      <td>0</td>\n",
       "      <td>0</td>\n",
       "      <td>0</td>\n",
       "      <td>1</td>\n",
       "    </tr>\n",
       "    <tr>\n",
       "      <th>4</th>\n",
       "      <td>RENT</td>\n",
       "      <td>0</td>\n",
       "      <td>0</td>\n",
       "      <td>0</td>\n",
       "      <td>1</td>\n",
       "    </tr>\n",
       "  </tbody>\n",
       "</table>\n",
       "</div>"
      ],
      "text/plain": [
       "  home_ownership  home_ownership_ANY  home_ownership_MORTGAGE  \\\n",
       "0       MORTGAGE                   0                        1   \n",
       "1           RENT                   0                        0   \n",
       "2           RENT                   0                        0   \n",
       "3           RENT                   0                        0   \n",
       "4           RENT                   0                        0   \n",
       "\n",
       "   home_ownership_OWN  home_ownership_RENT  \n",
       "0                   0                    0  \n",
       "1                   0                    1  \n",
       "2                   0                    1  \n",
       "3                   0                    1  \n",
       "4                   0                    1  "
      ]
     },
     "execution_count": 42,
     "metadata": {},
     "output_type": "execute_result"
    }
   ],
   "source": [
    "# take a look at variables that contain home ownership after converting it \n",
    "loans.loc[:,loans.columns.str.contains(\"home_ownership\")].head()"
   ]
  },
  {
   "cell_type": "code",
   "execution_count": 43,
   "metadata": {},
   "outputs": [],
   "source": [
    "# drop those variables\n",
    "loans = loans.drop(n_columns, axis=1) "
   ]
  },
  {
   "cell_type": "code",
   "execution_count": 44,
   "metadata": {},
   "outputs": [
    {
     "data": {
      "text/plain": [
       "Index(['loan_amnt', 'funded_amnt', 'funded_amnt_inv', 'int_rate',\n",
       "       'installment', 'grade', 'emp_length', 'annual_inc', 'loan_status',\n",
       "       'dti', 'delinq_2yrs', 'inq_last_6mths', 'open_acc', 'pub_rec',\n",
       "       'revol_bal', 'total_acc', 'out_prncp', 'out_prncp_inv', 'total_pymnt',\n",
       "       'total_pymnt_inv', 'total_rec_prncp', 'total_rec_int',\n",
       "       'total_rec_late_fee', 'recoveries', 'collections_12_mths_ex_med',\n",
       "       'acc_now_delinq', 'tot_coll_amt', 'tot_cur_bal', 'open_acc_6m',\n",
       "       'open_act_il', 'open_il_12m', 'open_il_24m', 'mths_since_rcnt_il',\n",
       "       'total_bal_il', 'il_util', 'open_rv_12m', 'open_rv_24m', 'max_bal_bc',\n",
       "       'all_util', 'total_rev_hi_lim', 'inq_fi', 'total_cu_tl', 'inq_last_12m',\n",
       "       'acc_open_past_24mths', 'avg_cur_bal', 'bc_open_to_buy', 'bc_util',\n",
       "       'chargeoff_within_12_mths', 'delinq_amnt', 'mo_sin_old_il_acct',\n",
       "       'mo_sin_old_rev_tl_op', 'mo_sin_rcnt_rev_tl_op', 'mo_sin_rcnt_tl',\n",
       "       'mort_acc', 'mths_since_recent_bc', 'mths_since_recent_inq',\n",
       "       'num_accts_ever_120_pd', 'num_actv_bc_tl', 'num_actv_rev_tl',\n",
       "       'num_bc_sats', 'num_bc_tl', 'num_il_tl', 'num_op_rev_tl',\n",
       "       'num_rev_accts', 'num_rev_tl_bal_gt_0', 'num_sats', 'num_tl_120dpd_2m',\n",
       "       'num_tl_30dpd', 'num_tl_90g_dpd_24m', 'num_tl_op_past_12m',\n",
       "       'pct_tl_nvr_dlq', 'percent_bc_gt_75', 'pub_rec_bankruptcies',\n",
       "       'tax_liens', 'tot_hi_cred_lim', 'total_bal_ex_mort', 'total_bc_limit',\n",
       "       'total_il_high_credit_limit', 'install_income'],\n",
       "      dtype='object')"
      ]
     },
     "execution_count": 44,
     "metadata": {},
     "output_type": "execute_result"
    }
   ],
   "source": [
    "loans.select_dtypes(include=['int64','float64']).columns "
   ]
  },
  {
   "cell_type": "code",
   "execution_count": 45,
   "metadata": {},
   "outputs": [
    {
     "data": {
      "text/plain": [
       "False"
      ]
     },
     "execution_count": 45,
     "metadata": {},
     "output_type": "execute_result"
    }
   ],
   "source": [
    "np.all(np.isfinite(loans.install_income))"
   ]
  },
  {
   "cell_type": "code",
   "execution_count": 46,
   "metadata": {},
   "outputs": [
    {
     "data": {
      "text/plain": [
       "1577      inf\n",
       "14996     inf\n",
       "15556     inf\n",
       "15802     inf\n",
       "107103    inf\n",
       "107461    inf\n",
       "109209    inf\n",
       "109273    inf\n",
       "110094    inf\n",
       "111939    inf\n",
       "112939    inf\n",
       "118533    inf\n",
       "126828    inf\n",
       "141716    inf\n",
       "143283    inf\n",
       "146010    inf\n",
       "146774    inf\n",
       "148183    inf\n",
       "152917    inf\n",
       "160737    inf\n",
       "163022    inf\n",
       "164217    inf\n",
       "164324    inf\n",
       "164454    inf\n",
       "167921    inf\n",
       "170379    inf\n",
       "170897    inf\n",
       "171989    inf\n",
       "174759    inf\n",
       "200268    inf\n",
       "Name: install_income, dtype: float64"
      ]
     },
     "execution_count": 46,
     "metadata": {},
     "output_type": "execute_result"
    }
   ],
   "source": [
    "loans[loans.install_income == np.inf]['install_income']"
   ]
  },
  {
   "cell_type": "code",
   "execution_count": 47,
   "metadata": {},
   "outputs": [],
   "source": [
    "loans.install_income.replace(np.inf, 0,inplace=True)"
   ]
  },
  {
   "cell_type": "code",
   "execution_count": 48,
   "metadata": {},
   "outputs": [
    {
     "data": {
      "text/plain": [
       "True"
      ]
     },
     "execution_count": 48,
     "metadata": {},
     "output_type": "execute_result"
    }
   ],
   "source": [
    "np.all(np.isfinite(loans.install_income))"
   ]
  },
  {
   "cell_type": "markdown",
   "metadata": {},
   "source": [
    "# Feature Scaling"
   ]
  },
  {
   "cell_type": "code",
   "execution_count": 49,
   "metadata": {},
   "outputs": [
    {
     "data": {
      "text/html": [
       "<div>\n",
       "<style scoped>\n",
       "    .dataframe tbody tr th:only-of-type {\n",
       "        vertical-align: middle;\n",
       "    }\n",
       "\n",
       "    .dataframe tbody tr th {\n",
       "        vertical-align: top;\n",
       "    }\n",
       "\n",
       "    .dataframe thead th {\n",
       "        text-align: right;\n",
       "    }\n",
       "</style>\n",
       "<table border=\"1\" class=\"dataframe\">\n",
       "  <thead>\n",
       "    <tr style=\"text-align: right;\">\n",
       "      <th></th>\n",
       "      <th>loan_amnt</th>\n",
       "      <th>funded_amnt</th>\n",
       "      <th>funded_amnt_inv</th>\n",
       "      <th>int_rate</th>\n",
       "      <th>installment</th>\n",
       "      <th>grade</th>\n",
       "      <th>emp_length</th>\n",
       "      <th>annual_inc</th>\n",
       "      <th>loan_status</th>\n",
       "      <th>dti</th>\n",
       "      <th>...</th>\n",
       "      <th>purpose_major_purchase</th>\n",
       "      <th>purpose_medical</th>\n",
       "      <th>purpose_moving</th>\n",
       "      <th>purpose_other</th>\n",
       "      <th>purpose_renewable_energy</th>\n",
       "      <th>purpose_small_business</th>\n",
       "      <th>purpose_vacation</th>\n",
       "      <th>purpose_wedding</th>\n",
       "      <th>term_ 36 months</th>\n",
       "      <th>term_ 60 months</th>\n",
       "    </tr>\n",
       "  </thead>\n",
       "  <tbody>\n",
       "    <tr>\n",
       "      <th>0</th>\n",
       "      <td>1.749100</td>\n",
       "      <td>1.749100</td>\n",
       "      <td>1.750208</td>\n",
       "      <td>0.061423</td>\n",
       "      <td>0.957881</td>\n",
       "      <td>0.191464</td>\n",
       "      <td>1.116324</td>\n",
       "      <td>0.391208</td>\n",
       "      <td>0</td>\n",
       "      <td>-0.205433</td>\n",
       "      <td>...</td>\n",
       "      <td>0</td>\n",
       "      <td>0</td>\n",
       "      <td>0</td>\n",
       "      <td>0</td>\n",
       "      <td>0</td>\n",
       "      <td>0</td>\n",
       "      <td>0</td>\n",
       "      <td>0</td>\n",
       "      <td>0</td>\n",
       "      <td>1</td>\n",
       "    </tr>\n",
       "    <tr>\n",
       "      <th>1</th>\n",
       "      <td>0.661379</td>\n",
       "      <td>0.661379</td>\n",
       "      <td>0.662166</td>\n",
       "      <td>2.298043</td>\n",
       "      <td>0.572144</td>\n",
       "      <td>1.910210</td>\n",
       "      <td>-0.430559</td>\n",
       "      <td>-0.421529</td>\n",
       "      <td>0</td>\n",
       "      <td>0.805323</td>\n",
       "      <td>...</td>\n",
       "      <td>0</td>\n",
       "      <td>0</td>\n",
       "      <td>0</td>\n",
       "      <td>0</td>\n",
       "      <td>0</td>\n",
       "      <td>0</td>\n",
       "      <td>0</td>\n",
       "      <td>0</td>\n",
       "      <td>0</td>\n",
       "      <td>1</td>\n",
       "    </tr>\n",
       "    <tr>\n",
       "      <th>2</th>\n",
       "      <td>1.749100</td>\n",
       "      <td>1.749100</td>\n",
       "      <td>1.750208</td>\n",
       "      <td>-0.548564</td>\n",
       "      <td>1.986176</td>\n",
       "      <td>-0.667909</td>\n",
       "      <td>-0.946186</td>\n",
       "      <td>0.004825</td>\n",
       "      <td>0</td>\n",
       "      <td>0.407205</td>\n",
       "      <td>...</td>\n",
       "      <td>0</td>\n",
       "      <td>0</td>\n",
       "      <td>0</td>\n",
       "      <td>0</td>\n",
       "      <td>0</td>\n",
       "      <td>0</td>\n",
       "      <td>0</td>\n",
       "      <td>0</td>\n",
       "      <td>1</td>\n",
       "      <td>0</td>\n",
       "    </tr>\n",
       "    <tr>\n",
       "      <th>3</th>\n",
       "      <td>0.092672</td>\n",
       "      <td>0.092672</td>\n",
       "      <td>0.093292</td>\n",
       "      <td>0.061423</td>\n",
       "      <td>0.287238</td>\n",
       "      <td>0.191464</td>\n",
       "      <td>-0.946186</td>\n",
       "      <td>-0.328264</td>\n",
       "      <td>0</td>\n",
       "      <td>0.523161</td>\n",
       "      <td>...</td>\n",
       "      <td>0</td>\n",
       "      <td>0</td>\n",
       "      <td>0</td>\n",
       "      <td>0</td>\n",
       "      <td>0</td>\n",
       "      <td>0</td>\n",
       "      <td>0</td>\n",
       "      <td>0</td>\n",
       "      <td>1</td>\n",
       "      <td>0</td>\n",
       "    </tr>\n",
       "    <tr>\n",
       "      <th>4</th>\n",
       "      <td>0.423958</td>\n",
       "      <td>0.423958</td>\n",
       "      <td>0.424675</td>\n",
       "      <td>0.163088</td>\n",
       "      <td>-0.035525</td>\n",
       "      <td>0.191464</td>\n",
       "      <td>1.116324</td>\n",
       "      <td>-0.061793</td>\n",
       "      <td>1</td>\n",
       "      <td>-0.957219</td>\n",
       "      <td>...</td>\n",
       "      <td>0</td>\n",
       "      <td>0</td>\n",
       "      <td>0</td>\n",
       "      <td>0</td>\n",
       "      <td>0</td>\n",
       "      <td>0</td>\n",
       "      <td>0</td>\n",
       "      <td>0</td>\n",
       "      <td>0</td>\n",
       "      <td>1</td>\n",
       "    </tr>\n",
       "  </tbody>\n",
       "</table>\n",
       "<p>5 rows × 103 columns</p>\n",
       "</div>"
      ],
      "text/plain": [
       "   loan_amnt  funded_amnt  funded_amnt_inv  int_rate  installment     grade  \\\n",
       "0   1.749100     1.749100         1.750208  0.061423     0.957881  0.191464   \n",
       "1   0.661379     0.661379         0.662166  2.298043     0.572144  1.910210   \n",
       "2   1.749100     1.749100         1.750208 -0.548564     1.986176 -0.667909   \n",
       "3   0.092672     0.092672         0.093292  0.061423     0.287238  0.191464   \n",
       "4   0.423958     0.423958         0.424675  0.163088    -0.035525  0.191464   \n",
       "\n",
       "   emp_length  annual_inc  loan_status       dti       ...         \\\n",
       "0    1.116324    0.391208            0 -0.205433       ...          \n",
       "1   -0.430559   -0.421529            0  0.805323       ...          \n",
       "2   -0.946186    0.004825            0  0.407205       ...          \n",
       "3   -0.946186   -0.328264            0  0.523161       ...          \n",
       "4    1.116324   -0.061793            1 -0.957219       ...          \n",
       "\n",
       "   purpose_major_purchase  purpose_medical  purpose_moving  purpose_other  \\\n",
       "0                       0                0               0              0   \n",
       "1                       0                0               0              0   \n",
       "2                       0                0               0              0   \n",
       "3                       0                0               0              0   \n",
       "4                       0                0               0              0   \n",
       "\n",
       "   purpose_renewable_energy  purpose_small_business  purpose_vacation  \\\n",
       "0                         0                       0                 0   \n",
       "1                         0                       0                 0   \n",
       "2                         0                       0                 0   \n",
       "3                         0                       0                 0   \n",
       "4                         0                       0                 0   \n",
       "\n",
       "   purpose_wedding  term_ 36 months  term_ 60 months  \n",
       "0                0                0                1  \n",
       "1                0                0                1  \n",
       "2                0                1                0  \n",
       "3                0                1                0  \n",
       "4                0                0                1  \n",
       "\n",
       "[5 rows x 103 columns]"
      ]
     },
     "execution_count": 49,
     "metadata": {},
     "output_type": "execute_result"
    }
   ],
   "source": [
    "col = loans.select_dtypes(include=['int64','float64']).columns\n",
    "col = col.drop('loan_status') # remove dependent variable \n",
    "loans_final = loans\n",
    "\n",
    "from sklearn.preprocessing import StandardScaler \n",
    "sc =StandardScaler() # initialise standard scaler \n",
    "loans_final[col] =sc.fit_transform(loans_final[col]) \n",
    "loans_final.head() #data after feature scaling"
   ]
  },
  {
   "cell_type": "markdown",
   "metadata": {},
   "source": [
    "# Feature Selection"
   ]
  },
  {
   "cell_type": "code",
   "execution_count": 50,
   "metadata": {},
   "outputs": [
    {
     "data": {
      "text/plain": [
       "102"
      ]
     },
     "execution_count": 50,
     "metadata": {},
     "output_type": "execute_result"
    }
   ],
   "source": [
    "# construct independent and dependent variables \n",
    "\n",
    "x_feature = list(loans_final.columns)\n",
    "x_feature.remove('loan_status')\n",
    "x_var = loans_final[x_feature]\n",
    "y_var = loans_final['loan_status']\n",
    "len(x_feature) # check the number of features"
   ]
  },
  {
   "cell_type": "code",
   "execution_count": 51,
   "metadata": {},
   "outputs": [
    {
     "name": "stdout",
     "output_type": "stream",
     "text": [
      "('loan_amnt', 0.03597427245099893)\n",
      "('funded_amnt', 0.028110531119835434)\n",
      "('funded_amnt_inv', 0.039651344665728935)\n",
      "('int_rate', 0.0113714400286151)\n",
      "('installment', 0.03870041897707653)\n",
      "('grade', 0.009480734912818185)\n",
      "('emp_length', 0.0025999739521340233)\n",
      "('annual_inc', 0.006596336793175483)\n",
      "('loan_status', 0.00654171203547037)\n",
      "('dti', 0.0015464343855906533)\n",
      "('delinq_2yrs', 0.001618754930852608)\n",
      "('inq_last_6mths', 0.003075273782083148)\n",
      "('open_acc', 0.0011583069564646213)\n",
      "('pub_rec', 0.005920641677569433)\n",
      "('revol_bal', 0.0043972088890355965)\n",
      "('total_acc', 0.061048850564534365)\n",
      "('out_prncp', 0.03688111622628779)\n",
      "('out_prncp_inv', 0.07670283747497084)\n",
      "('total_pymnt', 0.08120101878498241)\n",
      "('total_pymnt_inv', 0.14084286057724904)\n",
      "('total_rec_prncp', 0.026366658161192193)\n",
      "('total_rec_int', 0.03092927073800682)\n",
      "('total_rec_late_fee', 0.14578956501299303)\n",
      "('recoveries', 0.0004747629815587162)\n",
      "('collections_12_mths_ex_med', 0.0001652242231707269)\n",
      "('acc_now_delinq', 0.0017897560982352793)\n",
      "('tot_coll_amt', 0.005257988399739211)\n",
      "('tot_cur_bal', 0.0018324304637602536)\n",
      "('open_acc_6m', 0.0025388336983687464)\n",
      "('open_act_il', 0.0015818490628025858)\n",
      "('open_il_12m', 0.002289557635998347)\n",
      "('open_il_24m', 0.00423923628976158)\n",
      "('mths_since_rcnt_il', 0.0042936261947065955)\n",
      "('total_bal_il', 0.004861618138104055)\n",
      "('il_util', 0.002039364431036206)\n",
      "('open_rv_12m', 0.0028425883195033123)\n",
      "('open_rv_24m', 0.005404004364112771)\n",
      "('max_bal_bc', 0.004724737519820192)\n",
      "('all_util', 0.005387258863374532)\n",
      "('total_rev_hi_lim', 0.0023724141364274446)\n",
      "('inq_fi', 0.0024779912800038228)\n",
      "('total_cu_tl', 0.0028342717533989853)\n",
      "('inq_last_12m', 0.003615941236747478)\n",
      "('acc_open_past_24mths', 0.005330226151498238)\n",
      "('avg_cur_bal', 0.00546155270929996)\n",
      "('bc_open_to_buy', 0.0056799913154129385)\n",
      "('bc_util', 0.00021913844875190495)\n",
      "('chargeoff_within_12_mths', 0.00023022257215760627)\n",
      "('delinq_amnt', 0.005756437478806571)\n",
      "('mo_sin_old_il_acct', 0.006187768996069253)\n",
      "('mo_sin_old_rev_tl_op', 0.004023761999377889)\n",
      "('mo_sin_rcnt_rev_tl_op', 0.003574057263352732)\n",
      "('mo_sin_rcnt_tl', 0.0025885411762885595)\n",
      "('mort_acc', 0.004544684384270248)\n",
      "('mths_since_recent_bc', 0.003814504769271622)\n",
      "('mths_since_recent_inq', 0.0015839072336242613)\n",
      "('num_accts_ever_120_pd', 0.0026937009913864792)\n",
      "('num_actv_bc_tl', 0.003480100529029364)\n",
      "('num_actv_rev_tl', 0.002799067793054832)\n",
      "('num_bc_sats', 0.0036322144640170994)\n",
      "('num_bc_tl', 0.0038257747133530915)\n",
      "('num_il_tl', 0.0032484364766118866)\n",
      "('num_op_rev_tl', 0.0038221744026448443)\n",
      "('num_rev_accts', 0.0031805813768329893)\n",
      "('num_rev_tl_bal_gt_0', 0.0033136717981780686)\n",
      "('num_sats', 0.0005323957589341546)\n",
      "('num_tl_120dpd_2m', 0.00012063972921076795)\n",
      "('num_tl_30dpd', 0.0007349746244743646)\n",
      "('num_tl_90g_dpd_24m', 0.003203814482985823)\n",
      "('num_tl_op_past_12m', 0.0035476451384354388)\n",
      "('pct_tl_nvr_dlq', 0.0027267592272345116)\n",
      "('percent_bc_gt_75', 0.000980669403131812)\n",
      "('pub_rec_bankruptcies', 0.0006412592652847123)\n",
      "('tax_liens', 0.0056742368448790634)\n",
      "('tot_hi_cred_lim', 0.005133619046451669)\n",
      "('total_bal_ex_mort', 0.005248676768668599)\n",
      "('total_bc_limit', 0.0044013523350681285)\n",
      "('total_il_high_credit_limit', 0.01424992585905702)\n",
      "('install_income', 3.6025096309994574e-05)\n",
      "('home_ownership_ANY', 0.0006071326043773591)\n",
      "('home_ownership_MORTGAGE', 0.0005182030117688049)\n",
      "('home_ownership_OWN', 0.001044748703679176)\n",
      "('home_ownership_RENT', 0.0011586709213899393)\n",
      "('verification_status_Not Verified', 0.0007115018777604038)\n",
      "('verification_status_Source Verified', 0.0008815486351634273)\n",
      "('verification_status_Verified', 0.00026453175343730276)\n",
      "('application_type_Individual', 0.00016542834889891254)\n",
      "('application_type_Joint App', 0.00017005851227405448)\n",
      "('purpose_car', 0.0006195563471157392)\n",
      "('purpose_credit_card', 0.0009719941003577583)\n",
      "('purpose_debt_consolidation', 0.00036175815985367435)\n",
      "('purpose_home_improvement', 0.00015036646291095369)\n",
      "('purpose_house', 0.000255746506551787)\n",
      "('purpose_major_purchase', 0.00022839026308710248)\n",
      "('purpose_medical', 0.00018020447685511022)\n",
      "('purpose_moving', 0.0007460024517281562)\n",
      "('purpose_other', 3.3003117783963446e-05)\n",
      "('purpose_renewable_energy', 0.0003058867511984307)\n",
      "('purpose_small_business', 0.0002556119509432739)\n",
      "('purpose_vacation', 0.0)\n",
      "('purpose_wedding', 0.004080735768533623)\n",
      "('term_ 36 months', 0.0025373904626181444)\n"
     ]
    }
   ],
   "source": [
    "names = loans_final.columns\n",
    "from sklearn.ensemble import RandomForestClassifier\n",
    "rf=RandomForestClassifier(n_estimators=20,random_state=42)\n",
    "rf.fit(x_var, y_var)\n",
    "names, rf.feature_importances_\n",
    "for feature in zip(names, rf.feature_importances_):\n",
    "    print(feature)"
   ]
  },
  {
   "cell_type": "code",
   "execution_count": 52,
   "metadata": {},
   "outputs": [
    {
     "data": {
      "image/png": "[encoded data removed]",
      "text/plain": [
       "<Figure size 1440x432 with 1 Axes>"
      ]
     },
     "metadata": {},
     "output_type": "display_data"
    }
   ],
   "source": [
    "plt.style.use('fivethirtyeight')\n",
    "plt.rcParams['figure.figsize'] = (12,6)\n",
    "\n",
    "#feature importances visualisation\n",
    "importances = rf.feature_importances_\n",
    "feature_names = names\n",
    "indices = np.argsort(importances)[::-1][:40]\n",
    "fig = plt.figure(figsize=(20,6))\n",
    "plt.title(\"Feature importances by RandomTreeClassifier\")\n",
    "plt.bar(range(len(indices)), importances[indices], color='lightblue',  align=\"center\")\n",
    "plt.step(range(len(indices)), np.cumsum(importances[indices]), where='mid', label='Cumulative')\n",
    "plt.xticks(range(len(indices)), feature_names[indices], rotation='vertical',fontsize=14)\n",
    "plt.xlim([-1, len(indices)])\n",
    "plt.show()"
   ]
  },
  {
   "cell_type": "markdown",
   "metadata": {},
   "source": [
    "# Benchmark Model"
   ]
  },
  {
   "cell_type": "code",
   "execution_count": 53,
   "metadata": {},
   "outputs": [
    {
     "name": "stdout",
     "output_type": "stream",
     "text": [
      "Naive Predictor: [Accuracy score: 0.8680, F-score: 0.8915]\n"
     ]
    }
   ],
   "source": [
    "TP = loans_final[loans_final['loan_status'] == 0].shape[0]\n",
    "FP = loans_final.shape[0] - TP\n",
    "TN = 0\n",
    "FN = 0\n",
    "accuracy = float(TP)/(TP+FP)\n",
    "recall = float(TP)/(TP+FN)\n",
    "precision = accuracy\n",
    "\n",
    "fscore = (1+0.5**2)*(precision*recall)/(0.5**2*precision+recall)\n",
    "\n",
    "# Print the results \n",
    "print(\"Naive Predictor: [Accuracy score: {:.4f}, F-score: {:.4f}]\".format(accuracy, fscore))"
   ]
  },
  {
   "cell_type": "code",
   "execution_count": 54,
   "metadata": {},
   "outputs": [],
   "source": [
    "feature_names = feature_names.drop('loan_status')"
   ]
  },
  {
   "cell_type": "markdown",
   "metadata": {},
   "source": [
    "# SMOTE methods"
   ]
  },
  {
   "cell_type": "code",
   "execution_count": 55,
   "metadata": {},
   "outputs": [
    {
     "name": "stdout",
     "output_type": "stream",
     "text": [
      "number of rows：202666; Normal:86.80%; Default:13.20%\n",
      "num of dimension: 20\n"
     ]
    }
   ],
   "source": [
    "# construct X and Y variable \n",
    "X = x_var[list(feature_names[indices][:20])]\n",
    "y = y_var\n",
    "\n",
    "total_sample = y.shape[0]\n",
    "positive_sample = y[y == 0].shape[0]\n",
    "negative_sample = y[y == 1].shape[0]\n",
    "print('number of rows：{}; Normal:{:.2%}; Default:{:.2%}'.format(total_sample,\n",
    "                                                                 positive_sample / total_sample,\n",
    "                                                                 negative_sample / total_sample))\n",
    "print('num of dimension:', X.shape[1])"
   ]
  },
  {
   "cell_type": "code",
   "execution_count": 56,
   "metadata": {},
   "outputs": [
    {
     "name": "stdout",
     "output_type": "stream",
     "text": [
      "number of rows：351814; Normal:50.00%; Default:50.00%\n"
     ]
    }
   ],
   "source": [
    "from imblearn.over_sampling import SMOTE \n",
    "sm = SMOTE(random_state=42)   \n",
    "X, y = sm.fit_sample(X, y)\n",
    "total_sample = y.shape[0]\n",
    "positive_sample = y[y == 0].shape[0]\n",
    "negative_sample = y[y == 1].shape[0]\n",
    "print('number of rows：{}; Normal:{:.2%}; Default:{:.2%}'.format(total_sample,\n",
    "                                                                 positive_sample / total_sample,\n",
    "                                                                 negative_sample / total_sample))"
   ]
  },
  {
   "cell_type": "markdown",
   "metadata": {},
   "source": [
    "# Model Evaluation Using Default Parameter"
   ]
  },
  {
   "cell_type": "code",
   "execution_count": 49,
   "metadata": {},
   "outputs": [
    {
     "name": "stdout",
     "output_type": "stream",
     "text": [
      "2018-10-04 23:03:40.674656\n",
      "2018-10-04 23:03:40.683024\n"
     ]
    },
    {
     "name": "stderr",
     "output_type": "stream",
     "text": [
      "/anaconda3/lib/python3.6/site-packages/sklearn/cross_validation.py:41: DeprecationWarning: This module was deprecated in version 0.18 in favor of the model_selection module into which all the refactored classes and functions are moved. Also note that the interface of the new CV iterators are different from that of this module. This module will be removed in 0.20.\n",
      "  \"This module will be removed in 0.20.\", DeprecationWarning)\n"
     ]
    }
   ],
   "source": [
    "from sklearn.cross_validation import train_test_split\n",
    "from sklearn.metrics import accuracy_score\n",
    "from sklearn.linear_model import LogisticRegression as LR\n",
    "from sklearn.ensemble import RandomForestClassifier as RF\n",
    "import lightgbm as lgb\n",
    "\n",
    "X_train, X_test, y_train, y_test = train_test_split(X, y, test_size = 0.3, random_state = 42)\n",
    "\n",
    "import datetime\n",
    "\n",
    "print(datetime.datetime.now())\n",
    "\n",
    "lr = LR() \n",
    "rf = RF()\n",
    "lg = lgb.LGBMClassifier(silent=False)\n",
    "\n",
    "#lr.fit(X_train,y_train)\n",
    "#rf.fit(X_train,y_train)\n",
    "#lg.fit(X_train,y_train)\n",
    "\n",
    "print(datetime.datetime.now())"
   ]
  },
  {
   "cell_type": "code",
   "execution_count": 130,
   "metadata": {},
   "outputs": [
    {
     "name": "stderr",
     "output_type": "stream",
     "text": [
      "/anaconda3/lib/python3.6/site-packages/sklearn/preprocessing/label.py:151: DeprecationWarning: The truth value of an empty array is ambiguous. Returning False, but in future this will result in an error. Use `array.size > 0` to check that an array is not empty.\n",
      "  if diff:\n"
     ]
    }
   ],
   "source": [
    "predicted_lr = lr.predict(X_test) \n",
    "predicted_rf = rf.predict(X_test)\n",
    "predicted_lg = lg.predict(X_test)"
   ]
  },
  {
   "cell_type": "code",
   "execution_count": 131,
   "metadata": {},
   "outputs": [
    {
     "name": "stdout",
     "output_type": "stream",
     "text": [
      "Test set accuracy score logistic regression: 0.91257\n",
      "Test set accuracy score random forest: 0.96116\n",
      "Test set accuracy score lightGBM: 0.96886\n"
     ]
    }
   ],
   "source": [
    "from sklearn.metrics import accuracy_score\n",
    "print(\"Test set accuracy score logistic regression: {:.5f}\".format(accuracy_score(y_test,predicted_lr)))\n",
    "print(\"Test set accuracy score random forest: {:.5f}\".format(accuracy_score(y_test,predicted_rf)))\n",
    "print(\"Test set accuracy score lightGBM: {:.5f}\".format(accuracy_score(y_test,predicted_lg)))"
   ]
  },
  {
   "cell_type": "code",
   "execution_count": 132,
   "metadata": {},
   "outputs": [
    {
     "name": "stdout",
     "output_type": "stream",
     "text": [
      "             precision    recall  f1-score   support\n",
      "\n",
      "          0       0.87      0.97      0.92     52812\n",
      "          1       0.97      0.85      0.91     52733\n",
      "\n",
      "avg / total       0.92      0.91      0.91    105545\n",
      "\n",
      "             precision    recall  f1-score   support\n",
      "\n",
      "          0       0.94      0.98      0.96     52812\n",
      "          1       0.98      0.94      0.96     52733\n",
      "\n",
      "avg / total       0.96      0.96      0.96    105545\n",
      "\n",
      "             precision    recall  f1-score   support\n",
      "\n",
      "          0       0.95      0.99      0.97     52812\n",
      "          1       0.99      0.95      0.97     52733\n",
      "\n",
      "avg / total       0.97      0.97      0.97    105545\n",
      "\n"
     ]
    }
   ],
   "source": [
    "from sklearn.metrics import classification_report\n",
    "print(classification_report(y_test, predicted_lr))\n",
    "print(classification_report(y_test, predicted_rf))\n",
    "print(classification_report(y_test, predicted_lg))"
   ]
  },
  {
   "cell_type": "code",
   "execution_count": 153,
   "metadata": {},
   "outputs": [
    {
     "name": "stdout",
     "output_type": "stream",
     "text": [
      "Area under the ROC curve logistic regression : 0.912524\n",
      "Area under the ROC curve random forest : 0.961148\n",
      "Area under the ROC curve lightGBM: 0.968842\n"
     ]
    }
   ],
   "source": [
    "from sklearn.metrics import roc_auc_score\n",
    "lr_roc_auc = roc_auc_score(y_test, predicted_lr)\n",
    "rf_roc_auc = roc_auc_score(y_test, predicted_rf)\n",
    "lg_roc_auc = roc_auc_score(y_test, predicted_lg)\n",
    "\n",
    "print(\"Area under the ROC curve logistic regression : %f\" % lr_roc_auc)\n",
    "print(\"Area under the ROC curve random forest : %f\" % rf_roc_auc)\n",
    "print(\"Area under the ROC curve lightGBM: %f\" % lg_roc_auc)"
   ]
  },
  {
   "cell_type": "markdown",
   "metadata": {},
   "source": [
    "# Hyperparameter Tuning"
   ]
  },
  {
   "cell_type": "code",
   "execution_count": 73,
   "metadata": {},
   "outputs": [
    {
     "name": "stdout",
     "output_type": "stream",
     "text": [
      "2018-10-07 11:48:23.598642\n",
      "2018-10-07 12:22:48.744886\n"
     ]
    }
   ],
   "source": [
    "# Cross validation and random grid search\n",
    "from sklearn.model_selection import GridSearchCV\n",
    "from sklearn.model_selection import RandomizedSearchCV\n",
    "from sklearn.cross_validation import train_test_split \n",
    "from sklearn.linear_model import LogisticRegression as LR\n",
    "from sklearn.ensemble import RandomForestClassifier as RF\n",
    "from sklearn.ensemble import GradientBoostingClassifier as GB\n",
    "import lightgbm as lgb\n",
    "import datetime\n",
    "\n",
    "X_train, X_test, y_train, y_test = train_test_split(X, y, test_size = 0.3, random_state = 42)\n",
    "\n",
    "# param for logistic \n",
    "param_grid_lr = {'C': list(range(500,1000,5)),\n",
    "                 'penalty': [ 'l1', 'l2']}\n",
    "\n",
    "# param for random forest\n",
    "param_grid_rf = {'n_estimators': list(range(1,100)),\n",
    "                 'max_depth': list(range(1,100)),\n",
    "                 'min_samples_leaf':list(range(1,10))}\n",
    "\n",
    "# param for light GBM\n",
    "param_grid_lg = {\"max_depth\": [25, 50, 75],\n",
    "                 \"learning_rate\" : [0.01,0.05,0.1],\n",
    "                 \"num_leaves\": [300,900,1200],\n",
    "                 \"n_estimators\": [20]}\n",
    "    \n",
    "lr = LR()\n",
    "rf = RF()\n",
    "lg = lgb.LGBMClassifier()\n",
    "\n",
    "# Randomized GridSearch #\n",
    "lr_random = RandomizedSearchCV(estimator=lr, param_distributions = param_grid_lr, \n",
    "                                n_iter = 10, cv = 5, random_state = 42)\n",
    "\n",
    "rf_random = RandomizedSearchCV(estimator=rf, param_distributions = param_grid_rf,\n",
    "                               n_iter = 20, cv = 5, random_state = 42)\n",
    "\n",
    "lg_random = RandomizedSearchCV(estimator=lg, param_distributions = param_grid_lg,\n",
    "                                n_iter = 20, cv = 5, random_state = 42)\n",
    "\n",
    "\n",
    "print(datetime.datetime.now())\n",
    "lr_random.fit(X_train,y_train)\n",
    "rf_random.fit(X_train,y_train)\n",
    "lg_random.fit(X_train,y_train)\n",
    "print(datetime.datetime.now())"
   ]
  },
  {
   "cell_type": "code",
   "execution_count": 114,
   "metadata": {},
   "outputs": [
    {
     "name": "stdout",
     "output_type": "stream",
     "text": [
      "Folds: 5, f-score: 0.91 std: 0.00067\n"
     ]
    }
   ],
   "source": [
    "from sklearn.cross_validation import cross_val_score\n",
    "from sklearn.cross_validation import KFold\n",
    "\n",
    "crossvalidation = KFold(n=len(X),n_folds=5,shuffle=True, random_state=42)\n",
    "scores_lr = cross_val_score(LR(penalty='l2',C=785), X, y,scoring='f1_weighted', cv=crossvalidation)\n",
    "print('Folds: %i, f-score: %.2f std: %.5f' %(len(scores_lr),np.mean(np.abs(scores_lr)),np.std(scores_lr)))"
   ]
  },
  {
   "cell_type": "code",
   "execution_count": 115,
   "metadata": {},
   "outputs": [
    {
     "name": "stdout",
     "output_type": "stream",
     "text": [
      "Folds: 5, f-score: 0.97 std: 0.00028\n"
     ]
    }
   ],
   "source": [
    "from sklearn.cross_validation import cross_val_score\n",
    "from sklearn.cross_validation import KFold\n",
    "\n",
    "crossvalidation = KFold(n=len(X),n_folds=5,shuffle=True, random_state=42)\n",
    "scores_rf = cross_val_score(RF(n_estimators=39, min_samples_leaf=1,max_depth=68), X, y,scoring='f1_weighted', cv=crossvalidation)\n",
    "print('Folds: %i, f-score: %.2f std: %.5f' %(len(scores_rf),np.mean(np.abs(scores_rf)),np.std(scores_rf)))"
   ]
  },
  {
   "cell_type": "code",
   "execution_count": 113,
   "metadata": {},
   "outputs": [
    {
     "name": "stderr",
     "output_type": "stream",
     "text": [
      "/anaconda3/lib/python3.6/site-packages/sklearn/preprocessing/label.py:151: DeprecationWarning: The truth value of an empty array is ambiguous. Returning False, but in future this will result in an error. Use `array.size > 0` to check that an array is not empty.\n",
      "  if diff:\n",
      "/anaconda3/lib/python3.6/site-packages/sklearn/preprocessing/label.py:151: DeprecationWarning: The truth value of an empty array is ambiguous. Returning False, but in future this will result in an error. Use `array.size > 0` to check that an array is not empty.\n",
      "  if diff:\n",
      "/anaconda3/lib/python3.6/site-packages/sklearn/preprocessing/label.py:151: DeprecationWarning: The truth value of an empty array is ambiguous. Returning False, but in future this will result in an error. Use `array.size > 0` to check that an array is not empty.\n",
      "  if diff:\n",
      "/anaconda3/lib/python3.6/site-packages/sklearn/preprocessing/label.py:151: DeprecationWarning: The truth value of an empty array is ambiguous. Returning False, but in future this will result in an error. Use `array.size > 0` to check that an array is not empty.\n",
      "  if diff:\n"
     ]
    },
    {
     "name": "stdout",
     "output_type": "stream",
     "text": [
      "Folds: 5, f-score: 0.97 std: 0.00041\n"
     ]
    },
    {
     "name": "stderr",
     "output_type": "stream",
     "text": [
      "/anaconda3/lib/python3.6/site-packages/sklearn/preprocessing/label.py:151: DeprecationWarning: The truth value of an empty array is ambiguous. Returning False, but in future this will result in an error. Use `array.size > 0` to check that an array is not empty.\n",
      "  if diff:\n"
     ]
    }
   ],
   "source": [
    "from sklearn.cross_validation import cross_val_score\n",
    "from sklearn.cross_validation import KFold\n",
    "\n",
    "crossvalidation = KFold(n=len(X),n_folds=5,shuffle=True, random_state=42)\n",
    "score_lightgbm = cross_val_score(lgb.LGBMClassifier(num_leaves=1200,n_estimators=20,max_depth=50,learning_rate=0.1), X, y,scoring='f1_weighted', cv=crossvalidation)\n",
    "print('Folds: %i, f-score: %.2f std: %.5f' %(len(score_lightgbm),np.mean(np.abs(score_lightgbm)),np.std(score_lightgbm)))"
   ]
  },
  {
   "cell_type": "code",
   "execution_count": 105,
   "metadata": {},
   "outputs": [
    {
     "name": "stdout",
     "output_type": "stream",
     "text": [
      "Logistics Regression K-Fold cross validation score\n",
      "Fold 1 f-score is 0.9146727344032706\n",
      "Fold 2 f-score is 0.9134507558877825\n",
      "Fold 3 f-score is 0.9127326583219243\n",
      "Fold 4 f-score is 0.9131105013952238\n",
      "Fold 5 f-score is 0.9138691804779079\n",
      "f-score mean: 0.91 std: 0.00067\n"
     ]
    }
   ],
   "source": [
    "print('Logistics Regression K-Fold cross validation score')\n",
    "for i, score in enumerate(scores_lr,1):\n",
    "    print(\"Fold %d f-score is %s\" % (i, score))\n",
    "print('f-score mean: %.2f std: %.5f' %(np.mean(np.abs(scores_lr)),np.std(scores_lr)))  "
   ]
  },
  {
   "cell_type": "code",
   "execution_count": 111,
   "metadata": {},
   "outputs": [
    {
     "name": "stdout",
     "output_type": "stream",
     "text": [
      "Random Forest K-Fold cross validation score\n",
      "Fold 1 f-score is 0.9712022487459698\n",
      "Fold 2 f-score is 0.9712893644432696\n",
      "Fold 3 f-score is 0.9708620305511655\n",
      "Fold 4 f-score is 0.9701788349857251\n",
      "Fold 5 f-score is 0.9705759971190822\n",
      "f-score mean: 0.97 std: 0.00041\n"
     ]
    }
   ],
   "source": [
    "print('Random Forest K-Fold cross validation score')\n",
    "for i, score in enumerate(scores_rf,1):\n",
    "    print(\"Fold %d f-score is %s\" % (i, score))\n",
    "print('f-score mean: %.2f std: %.5f' %(np.mean(np.abs(scores_rf)),np.std(scores_rf)))"
   ]
  },
  {
   "cell_type": "code",
   "execution_count": 112,
   "metadata": {},
   "outputs": [
    {
     "name": "stdout",
     "output_type": "stream",
     "text": [
      "Light GBM K-Fold cross validation score\n",
      "Fold 1 f-score is 0.9713143705130798\n",
      "Fold 2 f-score is 0.970732850465982\n",
      "Fold 3 f-score is 0.9714427385017876\n",
      "Fold 4 f-score is 0.9719253508416972\n",
      "Fold 5 f-score is 0.9717396365106301\n",
      "f-score mean: 0.97 std: 0.00041\n"
     ]
    }
   ],
   "source": [
    "print('Light GBM K-Fold cross validation score')\n",
    "for i, score in enumerate(score_lightgbm,1):\n",
    "    print(\"Fold %d f-score is %s\" % (i, score))\n",
    "print('f-score mean: %.2f std: %.5f' %(np.mean(np.abs(score_lightgbm)),np.std(score_lightgbm)))\n",
    "    "
   ]
  },
  {
   "cell_type": "code",
   "execution_count": 152,
   "metadata": {},
   "outputs": [
    {
     "name": "stdout",
     "output_type": "stream",
     "text": [
      "The best parameter of logistic regression: {'penalty': 'l2', 'C': 785}\n",
      "The best parameter of random forest: {'n_estimators': 39, 'min_samples_leaf': 1, 'max_depth': 68}\n",
      "The best parameter of lightGBM: {'num_leaves': 1200, 'n_estimators': 20, 'max_depth': 50, 'learning_rate': 0.1}\n"
     ]
    }
   ],
   "source": [
    "# print out the best parameter of randomized search \n",
    "best_random_lr = lr_random.best_params_\n",
    "best_random_rf = rf_random.best_params_\n",
    "best_random_lg = lg_random.best_params_\n",
    "\n",
    "# print out the best parameter of Grid serach \n",
    "print('The best parameter of logistic regression:',best_random_lr)\n",
    "print('The best parameter of random forest:',best_random_rf)\n",
    "print('The best parameter of lightGBM:',best_random_lg)"
   ]
  },
  {
   "cell_type": "markdown",
   "metadata": {},
   "source": [
    "# Final Results"
   ]
  },
  {
   "cell_type": "code",
   "execution_count": 124,
   "metadata": {},
   "outputs": [
    {
     "name": "stdout",
     "output_type": "stream",
     "text": [
      "Test set accuracy score of Logistic Regression: 0.91365\n",
      "Test set accuracy score of Random Forest: 0.96657\n",
      "Test set accuracy score of lightGBM: 0.97173\n"
     ]
    }
   ],
   "source": [
    "pred_lr_random = lr_random.predict(X_test)\n",
    "pred_rf_random = rf_random.predict(X_test)\n",
    "pred_lg_random = lg_random.predict(X_test)\n",
    "\n",
    "print(\"Test set accuracy score of Logistic Regression: {:.5f}\".format(accuracy_score(pred_lr_random, y_test,)))\n",
    "print(\"Test set accuracy score of Random Forest: {:.5f}\".format(accuracy_score(pred_rf_random, y_test,)))\n",
    "print(\"Test set accuracy score of lightGBM: {:.5f}\".format(accuracy_score(pred_lg_random, y_test,)))"
   ]
  },
  {
   "cell_type": "code",
   "execution_count": 97,
   "metadata": {},
   "outputs": [
    {
     "name": "stdout",
     "output_type": "stream",
     "text": [
      "             precision    recall  f1-score   support\n",
      "\n",
      "          0       0.87      0.97      0.92     52812\n",
      "          1       0.97      0.86      0.91     52733\n",
      "\n",
      "avg / total       0.92      0.91      0.91    105545\n",
      "\n",
      "             precision    recall  f1-score   support\n",
      "\n",
      "          0       0.95      0.98      0.97     52812\n",
      "          1       0.98      0.95      0.97     52733\n",
      "\n",
      "avg / total       0.97      0.97      0.97    105545\n",
      "\n",
      "             precision    recall  f1-score   support\n",
      "\n",
      "          0       0.96      0.99      0.97     52812\n",
      "          1       0.99      0.96      0.97     52733\n",
      "\n",
      "avg / total       0.97      0.97      0.97    105545\n",
      "\n"
     ]
    }
   ],
   "source": [
    "from sklearn.metrics import classification_report\n",
    "print(classification_report(y_test, pred_lr_random))\n",
    "print(classification_report(y_test, pred_rf_random))\n",
    "print(classification_report(y_test, pred_lg_random))"
   ]
  },
  {
   "cell_type": "code",
   "execution_count": null,
   "metadata": {},
   "outputs": [],
   "source": [
    "from sklearn.metrics import roc_curve, roc_auc_score\n",
    "fpr, tpr, _ = roc_curve(y_test, pred_lg_random)\n",
    "auc = roc_auc_score(y_test, pred_lg_random)\n",
    "plt.figure(figsize=(6,4))\n",
    "plt.plot(fpr, tpr,label='ROC curve (area = %0.2f)' %auc)\n",
    "plt.plot([0, 1], [0, 1], color='navy', linestyle='--')\n",
    "plt.xlabel('False Positive Rate')\n",
    "plt.ylabel('True Positive Rate')\n",
    "plt.title('ROC curve lightGBM')\n",
    "plt.legend(loc=\"lower right\")\n",
    "plt.show()"
   ]
  }
 ],
 "metadata": {
  "kernelspec": {
   "display_name": "Python 3",
   "language": "python",
   "name": "python3"
  },
  "language_info": {
   "codemirror_mode": {
    "name": "ipython",
    "version": 3
   },
   "file_extension": ".py",
   "mimetype": "text/x-python",
   "name": "python",
   "nbconvert_exporter": "python",
   "pygments_lexer": "ipython3",
   "version": "3.6.5"
  }
 },
 "nbformat": 4,
 "nbformat_minor": 2
}
